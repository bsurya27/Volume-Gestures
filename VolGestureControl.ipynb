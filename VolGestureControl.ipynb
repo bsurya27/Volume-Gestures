{
 "cells": [
  {
   "cell_type": "code",
   "execution_count": 1,
   "id": "d733b63c",
   "metadata": {},
   "outputs": [],
   "source": [
    "import cv2\n",
    "import mediapipe as mp\n",
    "import numpy as np\n",
    "from math import hypot\n",
    "from ctypes import cast, POINTER\n",
    "from comtypes import CLSCTX_ALL\n",
    "from pycaw.pycaw import AudioUtilities, IAudioEndpointVolume"
   ]
  },
  {
   "cell_type": "code",
   "execution_count": 2,
   "id": "130651a1",
   "metadata": {
    "scrolled": false
   },
   "outputs": [],
   "source": [
    "camSrc = cv2.VideoCapture(0)\n",
    "handLoc = mp.solutions.hands\n",
    "HLoc = handLoc.Hands()\n",
    "mpDraw = mp.solutions.drawing_utils\n",
    "\n",
    "\n",
    "devices = AudioUtilities.GetSpeakers()\n",
    "interface = devices.Activate(IAudioEndpointVolume._iid_, CLSCTX_ALL, None)\n",
    "volume = cast(interface, POINTER(IAudioEndpointVolume))\n",
    "\n",
    "volMin,volMax = volume.GetVolumeRange()[:2]\n",
    "while True:\n",
    "    index,img = camSrc.read()\n",
    "    imgRGB = cv2.cvtColor(img,cv2.COLOR_BGR2RGB)\n",
    "    \n",
    "\n",
    "    results = HLoc.process(imgRGB)\n",
    "    markerlist = []\n",
    "    if results.multi_hand_landmarks:\n",
    "        for handlandmark in results.multi_hand_landmarks:\n",
    "            for id,landmark in enumerate(handlandmark.landmark):\n",
    "\n",
    "                height,width,_ = img.shape\n",
    "                LMx,LMy = int(landmark.x*width),int(landmark.y*height)\n",
    "                markerlist.append([id,LMx,LMy])\n",
    "            mpDraw.draw_landmarks(img,handlandmark,handLoc.HAND_CONNECTIONS)\n",
    "    if markerlist != []:\n",
    "\n",
    "        x1,y1 = markerlist[4][1],markerlist[4][2]\n",
    "        x2,y2 = markerlist[20][1],markerlist[20][2]\n",
    "        cv2.line(img,(x1,y1),(x2,y2),(255,0,0),3) \n",
    "        \n",
    "        length = hypot(x2-x1,y2-y1) \n",
    "        vol = np.interp(length,[15,220],[volMin,volMax])\n",
    "#         print(vol,length)\n",
    "        volume.SetMasterVolumeLevel(vol, None)\n",
    "\n",
    "    cv2.imshow('Video Input',img) \n",
    "    if cv2.waitKey(1) & 0xff==ord(' '):\n",
    "        break\n",
    "camSrc.release()     \n",
    "cv2.destroyAllWindows()"
   ]
  },
  {
   "cell_type": "code",
   "execution_count": null,
   "id": "0357343c",
   "metadata": {},
   "outputs": [],
   "source": []
  }
 ],
 "metadata": {
  "kernelspec": {
   "display_name": "Python 3 (ipykernel)",
   "language": "python",
   "name": "python3"
  },
  "language_info": {
   "codemirror_mode": {
    "name": "ipython",
    "version": 3
   },
   "file_extension": ".py",
   "mimetype": "text/x-python",
   "name": "python",
   "nbconvert_exporter": "python",
   "pygments_lexer": "ipython3",
   "version": "3.10.4"
  }
 },
 "nbformat": 4,
 "nbformat_minor": 5
}
